{
 "cells": [
  {
   "cell_type": "raw",
   "id": "652d1922",
   "metadata": {},
   "source": [
    "Project 42\n",
    "by:- \n",
    "    Vengie\n",
    "    Shivam\n",
    "    Deepika"
   ]
  },
  {
   "cell_type": "code",
   "execution_count": 1,
   "id": "608fafd2",
   "metadata": {},
   "outputs": [
    {
     "name": "stderr",
     "output_type": "stream",
     "text": [
      "C:\\Users\\ASUS\\anaconda3\\lib\\site-packages\\scipy\\__init__.py:146: UserWarning: A NumPy version >=1.16.5 and <1.23.0 is required for this version of SciPy (detected version 1.24.3\n",
      "  warnings.warn(f\"A NumPy version >={np_minversion} and <{np_maxversion}\"\n"
     ]
    }
   ],
   "source": [
    "import pandas as pd\n",
    "import matplotlib.pyplot as plt\n",
    "import seaborn as sns\n"
   ]
  },
  {
   "cell_type": "code",
   "execution_count": 2,
   "id": "0402a187",
   "metadata": {},
   "outputs": [
    {
     "data": {
      "text/html": [
       "<div>\n",
       "<style scoped>\n",
       "    .dataframe tbody tr th:only-of-type {\n",
       "        vertical-align: middle;\n",
       "    }\n",
       "\n",
       "    .dataframe tbody tr th {\n",
       "        vertical-align: top;\n",
       "    }\n",
       "\n",
       "    .dataframe thead th {\n",
       "        text-align: right;\n",
       "    }\n",
       "</style>\n",
       "<table border=\"1\" class=\"dataframe\">\n",
       "  <thead>\n",
       "    <tr style=\"text-align: right;\">\n",
       "      <th></th>\n",
       "      <th>ID</th>\n",
       "      <th>Warehouse_block</th>\n",
       "      <th>Mode_of_Shipment</th>\n",
       "      <th>Customer_care_calls</th>\n",
       "      <th>Customer_rating</th>\n",
       "      <th>Cost_of_the_Product</th>\n",
       "      <th>Prior_purchases</th>\n",
       "      <th>Product_importance</th>\n",
       "      <th>Gender</th>\n",
       "      <th>Discount_offered</th>\n",
       "      <th>Weight_in_gms</th>\n",
       "      <th>Reached.on.Time_Y.N</th>\n",
       "    </tr>\n",
       "  </thead>\n",
       "  <tbody>\n",
       "    <tr>\n",
       "      <th>0</th>\n",
       "      <td>1</td>\n",
       "      <td>D</td>\n",
       "      <td>Flight</td>\n",
       "      <td>4</td>\n",
       "      <td>2</td>\n",
       "      <td>177</td>\n",
       "      <td>3</td>\n",
       "      <td>low</td>\n",
       "      <td>F</td>\n",
       "      <td>44</td>\n",
       "      <td>1233</td>\n",
       "      <td>1</td>\n",
       "    </tr>\n",
       "    <tr>\n",
       "      <th>1</th>\n",
       "      <td>2</td>\n",
       "      <td>F</td>\n",
       "      <td>Flight</td>\n",
       "      <td>4</td>\n",
       "      <td>5</td>\n",
       "      <td>216</td>\n",
       "      <td>2</td>\n",
       "      <td>low</td>\n",
       "      <td>M</td>\n",
       "      <td>59</td>\n",
       "      <td>3088</td>\n",
       "      <td>1</td>\n",
       "    </tr>\n",
       "    <tr>\n",
       "      <th>2</th>\n",
       "      <td>3</td>\n",
       "      <td>A</td>\n",
       "      <td>Flight</td>\n",
       "      <td>2</td>\n",
       "      <td>2</td>\n",
       "      <td>183</td>\n",
       "      <td>4</td>\n",
       "      <td>low</td>\n",
       "      <td>M</td>\n",
       "      <td>48</td>\n",
       "      <td>3374</td>\n",
       "      <td>1</td>\n",
       "    </tr>\n",
       "    <tr>\n",
       "      <th>3</th>\n",
       "      <td>4</td>\n",
       "      <td>B</td>\n",
       "      <td>Flight</td>\n",
       "      <td>3</td>\n",
       "      <td>3</td>\n",
       "      <td>176</td>\n",
       "      <td>4</td>\n",
       "      <td>medium</td>\n",
       "      <td>M</td>\n",
       "      <td>10</td>\n",
       "      <td>1177</td>\n",
       "      <td>1</td>\n",
       "    </tr>\n",
       "    <tr>\n",
       "      <th>4</th>\n",
       "      <td>5</td>\n",
       "      <td>C</td>\n",
       "      <td>Flight</td>\n",
       "      <td>2</td>\n",
       "      <td>2</td>\n",
       "      <td>184</td>\n",
       "      <td>3</td>\n",
       "      <td>medium</td>\n",
       "      <td>F</td>\n",
       "      <td>46</td>\n",
       "      <td>2484</td>\n",
       "      <td>1</td>\n",
       "    </tr>\n",
       "    <tr>\n",
       "      <th>...</th>\n",
       "      <td>...</td>\n",
       "      <td>...</td>\n",
       "      <td>...</td>\n",
       "      <td>...</td>\n",
       "      <td>...</td>\n",
       "      <td>...</td>\n",
       "      <td>...</td>\n",
       "      <td>...</td>\n",
       "      <td>...</td>\n",
       "      <td>...</td>\n",
       "      <td>...</td>\n",
       "      <td>...</td>\n",
       "    </tr>\n",
       "    <tr>\n",
       "      <th>10994</th>\n",
       "      <td>10995</td>\n",
       "      <td>A</td>\n",
       "      <td>Ship</td>\n",
       "      <td>4</td>\n",
       "      <td>1</td>\n",
       "      <td>252</td>\n",
       "      <td>5</td>\n",
       "      <td>medium</td>\n",
       "      <td>F</td>\n",
       "      <td>1</td>\n",
       "      <td>1538</td>\n",
       "      <td>1</td>\n",
       "    </tr>\n",
       "    <tr>\n",
       "      <th>10995</th>\n",
       "      <td>10996</td>\n",
       "      <td>B</td>\n",
       "      <td>Ship</td>\n",
       "      <td>4</td>\n",
       "      <td>1</td>\n",
       "      <td>232</td>\n",
       "      <td>5</td>\n",
       "      <td>medium</td>\n",
       "      <td>F</td>\n",
       "      <td>6</td>\n",
       "      <td>1247</td>\n",
       "      <td>0</td>\n",
       "    </tr>\n",
       "    <tr>\n",
       "      <th>10996</th>\n",
       "      <td>10997</td>\n",
       "      <td>C</td>\n",
       "      <td>Ship</td>\n",
       "      <td>5</td>\n",
       "      <td>4</td>\n",
       "      <td>242</td>\n",
       "      <td>5</td>\n",
       "      <td>low</td>\n",
       "      <td>F</td>\n",
       "      <td>4</td>\n",
       "      <td>1155</td>\n",
       "      <td>0</td>\n",
       "    </tr>\n",
       "    <tr>\n",
       "      <th>10997</th>\n",
       "      <td>10998</td>\n",
       "      <td>F</td>\n",
       "      <td>Ship</td>\n",
       "      <td>5</td>\n",
       "      <td>2</td>\n",
       "      <td>223</td>\n",
       "      <td>6</td>\n",
       "      <td>medium</td>\n",
       "      <td>M</td>\n",
       "      <td>2</td>\n",
       "      <td>1210</td>\n",
       "      <td>0</td>\n",
       "    </tr>\n",
       "    <tr>\n",
       "      <th>10998</th>\n",
       "      <td>10999</td>\n",
       "      <td>D</td>\n",
       "      <td>Ship</td>\n",
       "      <td>2</td>\n",
       "      <td>5</td>\n",
       "      <td>155</td>\n",
       "      <td>5</td>\n",
       "      <td>low</td>\n",
       "      <td>F</td>\n",
       "      <td>6</td>\n",
       "      <td>1639</td>\n",
       "      <td>0</td>\n",
       "    </tr>\n",
       "  </tbody>\n",
       "</table>\n",
       "<p>10999 rows × 12 columns</p>\n",
       "</div>"
      ],
      "text/plain": [
       "          ID Warehouse_block Mode_of_Shipment  Customer_care_calls  \\\n",
       "0          1               D           Flight                    4   \n",
       "1          2               F           Flight                    4   \n",
       "2          3               A           Flight                    2   \n",
       "3          4               B           Flight                    3   \n",
       "4          5               C           Flight                    2   \n",
       "...      ...             ...              ...                  ...   \n",
       "10994  10995               A             Ship                    4   \n",
       "10995  10996               B             Ship                    4   \n",
       "10996  10997               C             Ship                    5   \n",
       "10997  10998               F             Ship                    5   \n",
       "10998  10999               D             Ship                    2   \n",
       "\n",
       "       Customer_rating  Cost_of_the_Product  Prior_purchases  \\\n",
       "0                    2                  177                3   \n",
       "1                    5                  216                2   \n",
       "2                    2                  183                4   \n",
       "3                    3                  176                4   \n",
       "4                    2                  184                3   \n",
       "...                ...                  ...              ...   \n",
       "10994                1                  252                5   \n",
       "10995                1                  232                5   \n",
       "10996                4                  242                5   \n",
       "10997                2                  223                6   \n",
       "10998                5                  155                5   \n",
       "\n",
       "      Product_importance Gender  Discount_offered  Weight_in_gms  \\\n",
       "0                    low      F                44           1233   \n",
       "1                    low      M                59           3088   \n",
       "2                    low      M                48           3374   \n",
       "3                 medium      M                10           1177   \n",
       "4                 medium      F                46           2484   \n",
       "...                  ...    ...               ...            ...   \n",
       "10994             medium      F                 1           1538   \n",
       "10995             medium      F                 6           1247   \n",
       "10996                low      F                 4           1155   \n",
       "10997             medium      M                 2           1210   \n",
       "10998                low      F                 6           1639   \n",
       "\n",
       "       Reached.on.Time_Y.N  \n",
       "0                        1  \n",
       "1                        1  \n",
       "2                        1  \n",
       "3                        1  \n",
       "4                        1  \n",
       "...                    ...  \n",
       "10994                    1  \n",
       "10995                    0  \n",
       "10996                    0  \n",
       "10997                    0  \n",
       "10998                    0  \n",
       "\n",
       "[10999 rows x 12 columns]"
      ]
     },
     "execution_count": 2,
     "metadata": {},
     "output_type": "execute_result"
    }
   ],
   "source": [
    "data = pd.read_csv('project data.csv')\n",
    "data"
   ]
  },
  {
   "cell_type": "code",
   "execution_count": 3,
   "id": "166ee17d",
   "metadata": {},
   "outputs": [
    {
     "name": "stdout",
     "output_type": "stream",
     "text": [
      "   ID Warehouse_block Mode_of_Shipment  Customer_care_calls  Customer_rating  \\\n",
      "0   1               D           Flight                    4                2   \n",
      "1   2               F           Flight                    4                5   \n",
      "2   3               A           Flight                    2                2   \n",
      "3   4               B           Flight                    3                3   \n",
      "4   5               C           Flight                    2                2   \n",
      "\n",
      "   Cost_of_the_Product  Prior_purchases Product_importance Gender  \\\n",
      "0                  177                3                low      F   \n",
      "1                  216                2                low      M   \n",
      "2                  183                4                low      M   \n",
      "3                  176                4             medium      M   \n",
      "4                  184                3             medium      F   \n",
      "\n",
      "   Discount_offered  Weight_in_gms  Reached.on.Time_Y.N  \n",
      "0                44           1233                    1  \n",
      "1                59           3088                    1  \n",
      "2                48           3374                    1  \n",
      "3                10           1177                    1  \n",
      "4                46           2484                    1  \n"
     ]
    }
   ],
   "source": [
    "print(data.head())"
   ]
  },
  {
   "cell_type": "code",
   "execution_count": 4,
   "id": "447677e8",
   "metadata": {},
   "outputs": [
    {
     "name": "stdout",
     "output_type": "stream",
     "text": [
      "<class 'pandas.core.frame.DataFrame'>\n",
      "RangeIndex: 10999 entries, 0 to 10998\n",
      "Data columns (total 12 columns):\n",
      " #   Column               Non-Null Count  Dtype \n",
      "---  ------               --------------  ----- \n",
      " 0   ID                   10999 non-null  int64 \n",
      " 1   Warehouse_block      10999 non-null  object\n",
      " 2   Mode_of_Shipment     10999 non-null  object\n",
      " 3   Customer_care_calls  10999 non-null  int64 \n",
      " 4   Customer_rating      10999 non-null  int64 \n",
      " 5   Cost_of_the_Product  10999 non-null  int64 \n",
      " 6   Prior_purchases      10999 non-null  int64 \n",
      " 7   Product_importance   10999 non-null  object\n",
      " 8   Gender               10999 non-null  object\n",
      " 9   Discount_offered     10999 non-null  int64 \n",
      " 10  Weight_in_gms        10999 non-null  int64 \n",
      " 11  Reached.on.Time_Y.N  10999 non-null  int64 \n",
      "dtypes: int64(8), object(4)\n",
      "memory usage: 1.0+ MB\n",
      "None\n"
     ]
    }
   ],
   "source": [
    "print(data.info())"
   ]
  },
  {
   "cell_type": "code",
   "execution_count": 5,
   "id": "0c43ff20",
   "metadata": {},
   "outputs": [
    {
     "name": "stdout",
     "output_type": "stream",
     "text": [
      "                ID  Customer_care_calls  Customer_rating  Cost_of_the_Product  \\\n",
      "count  10999.00000         10999.000000     10999.000000         10999.000000   \n",
      "mean    5500.00000             4.054459         2.990545           210.196836   \n",
      "std     3175.28214             1.141490         1.413603            48.063272   \n",
      "min        1.00000             2.000000         1.000000            96.000000   \n",
      "25%     2750.50000             3.000000         2.000000           169.000000   \n",
      "50%     5500.00000             4.000000         3.000000           214.000000   \n",
      "75%     8249.50000             5.000000         4.000000           251.000000   \n",
      "max    10999.00000             7.000000         5.000000           310.000000   \n",
      "\n",
      "       Prior_purchases  Discount_offered  Weight_in_gms  Reached.on.Time_Y.N  \n",
      "count     10999.000000      10999.000000   10999.000000         10999.000000  \n",
      "mean          3.567597         13.373216    3634.016729             0.596691  \n",
      "std           1.522860         16.205527    1635.377251             0.490584  \n",
      "min           2.000000          1.000000    1001.000000             0.000000  \n",
      "25%           3.000000          4.000000    1839.500000             0.000000  \n",
      "50%           3.000000          7.000000    4149.000000             1.000000  \n",
      "75%           4.000000         10.000000    5050.000000             1.000000  \n",
      "max          10.000000         65.000000    7846.000000             1.000000  \n"
     ]
    }
   ],
   "source": [
    "print(data.describe())"
   ]
  },
  {
   "cell_type": "code",
   "execution_count": 6,
   "id": "0fb79e00",
   "metadata": {},
   "outputs": [
    {
     "name": "stdout",
     "output_type": "stream",
     "text": [
      "ID                     0\n",
      "Warehouse_block        0\n",
      "Mode_of_Shipment       0\n",
      "Customer_care_calls    0\n",
      "Customer_rating        0\n",
      "Cost_of_the_Product    0\n",
      "Prior_purchases        0\n",
      "Product_importance     0\n",
      "Gender                 0\n",
      "Discount_offered       0\n",
      "Weight_in_gms          0\n",
      "Reached.on.Time_Y.N    0\n",
      "dtype: int64\n"
     ]
    }
   ],
   "source": [
    "# Check for missing values\n",
    "print(data.isnull().sum())"
   ]
  },
  {
   "cell_type": "code",
   "execution_count": 7,
   "id": "874c316f",
   "metadata": {},
   "outputs": [
    {
     "name": "stdout",
     "output_type": "stream",
     "text": [
      "0\n"
     ]
    }
   ],
   "source": [
    "# Check for duplicates\n",
    "print(data.duplicated().sum())\n"
   ]
  },
  {
   "cell_type": "code",
   "execution_count": 8,
   "id": "10f96b88",
   "metadata": {},
   "outputs": [],
   "source": [
    "# Import necessary libraries\n",
    "import pandas as pd\n",
    "from sklearn.model_selection import train_test_split, cross_val_score\n",
    "from sklearn.ensemble import RandomForestClassifier, GradientBoostingClassifier\n",
    "from sklearn.svm import SVC\n",
    "from sklearn.linear_model import LogisticRegression\n",
    "from sklearn.tree import DecisionTreeClassifier\n",
    "from sklearn.metrics import accuracy_score"
   ]
  },
  {
   "cell_type": "code",
   "execution_count": 9,
   "id": "97db7b2e",
   "metadata": {},
   "outputs": [],
   "source": [
    "# Load your cleaned dataset\n",
    "data = pd.read_csv('project data.csv') "
   ]
  },
  {
   "cell_type": "code",
   "execution_count": 10,
   "id": "f998cc6c",
   "metadata": {},
   "outputs": [],
   "source": [
    "# Encode categorical variables using Label Encoding for non-binary categorical columns\n",
    "from sklearn.preprocessing import LabelEncoder\n",
    "\n",
    "label_encoder = LabelEncoder()\n",
    "\n",
    "categorical_columns = ['Warehouse_block', 'Mode_of_Shipment', 'Product_importance', 'Gender']\n",
    "\n",
    "for col in categorical_columns:\n",
    "    data[col] = label_encoder.fit_transform(data[col])"
   ]
  },
  {
   "cell_type": "code",
   "execution_count": 11,
   "id": "dec9d597",
   "metadata": {},
   "outputs": [],
   "source": [
    "# Separate features (X) and target variable (y)\n",
    "X = data.drop('Reached.on.Time_Y.N', axis=1)  # Adjust 'target_column' to your target variable\n",
    "y = data['Reached.on.Time_Y.N']\n"
   ]
  },
  {
   "cell_type": "code",
   "execution_count": 12,
   "id": "45a7350a",
   "metadata": {},
   "outputs": [],
   "source": [
    "# Split the data into training and testing sets\n",
    "X_train, X_test, y_train, y_test = train_test_split(X, y, test_size=0.2, random_state=42)\n"
   ]
  },
  {
   "cell_type": "code",
   "execution_count": 13,
   "id": "4963a35a",
   "metadata": {},
   "outputs": [],
   "source": [
    "# Define a list of classifiers to compare\n",
    "classifiers = {\n",
    "    'Random Forest': RandomForestClassifier(random_state=42),\n",
    "    'Gradient Boosting': GradientBoostingClassifier(random_state=42),\n",
    "    'Support Vector Machine': SVC(),\n",
    "    'Logistic Regression': LogisticRegression(),\n",
    "    'Decision Tree': DecisionTreeClassifier(random_state=42)\n",
    "}\n"
   ]
  },
  {
   "cell_type": "code",
   "execution_count": 14,
   "id": "da091436",
   "metadata": {},
   "outputs": [],
   "source": [
    "# Dictionary to store accuracy scores for each classifier\n",
    "accuracy_scores = {}"
   ]
  },
  {
   "cell_type": "code",
   "execution_count": 15,
   "id": "ec53ca0e",
   "metadata": {},
   "outputs": [],
   "source": [
    "# Loop through classifiers and evaluate accuracy using cross-validation\n",
    "for clf_name, clf in classifiers.items():\n",
    "    # Perform 5-fold cross-validation and compute accuracy scores\n",
    "    scores = cross_val_score(clf, X_train, y_train, cv=5, scoring='accuracy')\n",
    "    \n",
    "    # Store the mean accuracy score in the dictionary\n",
    "    accuracy_scores[clf_name] = scores.mean()"
   ]
  },
  {
   "cell_type": "code",
   "execution_count": 16,
   "id": "72146e18",
   "metadata": {},
   "outputs": [
    {
     "name": "stdout",
     "output_type": "stream",
     "text": [
      "Random Forest: Mean Accuracy = 0.66\n",
      "Gradient Boosting: Mean Accuracy = 0.68\n",
      "Support Vector Machine: Mean Accuracy = 0.69\n",
      "Logistic Regression: Mean Accuracy = 0.66\n",
      "Decision Tree: Mean Accuracy = 0.64\n"
     ]
    }
   ],
   "source": [
    "\n",
    "# Print the accuracy scores for each classifier\n",
    "for clf_name, accuracy in accuracy_scores.items():\n",
    "    print(f'{clf_name}: Mean Accuracy = {accuracy:.2f}')\n"
   ]
  },
  {
   "cell_type": "code",
   "execution_count": 17,
   "id": "98c6b38b",
   "metadata": {},
   "outputs": [],
   "source": [
    "# Evaluate each classifier using cross-validation\n",
    "results = {}\n",
    "for clf_name, clf in classifiers.items():\n",
    "    scores = cross_val_score(clf, X_train, y_train, cv=5, scoring='accuracy')\n",
    "    results[clf_name] = scores.mean()\n"
   ]
  },
  {
   "cell_type": "code",
   "execution_count": 18,
   "id": "30b2a2b9",
   "metadata": {},
   "outputs": [],
   "source": [
    "# Select the best classifier based on mean cross-validation accuracy\n",
    "best_classifier = max(results, key=results.get)\n"
   ]
  },
  {
   "cell_type": "code",
   "execution_count": 19,
   "id": "41b62de5",
   "metadata": {},
   "outputs": [
    {
     "data": {
      "text/plain": [
       "SVC()"
      ]
     },
     "execution_count": 19,
     "metadata": {},
     "output_type": "execute_result"
    }
   ],
   "source": [
    "# Train the selected best classifier on the full training data\n",
    "best_model = classifiers[best_classifier]\n",
    "best_model.fit(X_train, y_train)\n"
   ]
  },
  {
   "cell_type": "code",
   "execution_count": 20,
   "id": "874a49ac",
   "metadata": {},
   "outputs": [],
   "source": [
    "# Make predictions on the test set\n",
    "y_pred = best_model.predict(X_test)\n"
   ]
  },
  {
   "cell_type": "code",
   "execution_count": 21,
   "id": "e9d611bd",
   "metadata": {},
   "outputs": [
    {
     "name": "stdout",
     "output_type": "stream",
     "text": [
      "Best Model: Support Vector Machine\n",
      "Accuracy on Test Set: 0.69\n"
     ]
    }
   ],
   "source": [
    "# Evaluate the best model's accuracy on the test set\n",
    "accuracy = accuracy_score(y_test, y_pred)\n",
    "print(f'Best Model: {best_classifier}')\n",
    "print(f'Accuracy on Test Set: {accuracy:.2f}')"
   ]
  },
  {
   "cell_type": "code",
   "execution_count": null,
   "id": "482cd8ab",
   "metadata": {},
   "outputs": [],
   "source": []
  }
 ],
 "metadata": {
  "kernelspec": {
   "display_name": "Python 3 (ipykernel)",
   "language": "python",
   "name": "python3"
  },
  "language_info": {
   "codemirror_mode": {
    "name": "ipython",
    "version": 3
   },
   "file_extension": ".py",
   "mimetype": "text/x-python",
   "name": "python",
   "nbconvert_exporter": "python",
   "pygments_lexer": "ipython3",
   "version": "3.9.12"
  }
 },
 "nbformat": 4,
 "nbformat_minor": 5
}
